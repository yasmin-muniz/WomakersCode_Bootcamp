{
  "nbformat": 4,
  "nbformat_minor": 0,
  "metadata": {
    "colab": {
      "provenance": []
    },
    "kernelspec": {
      "name": "python3",
      "display_name": "Python 3"
    },
    "language_info": {
      "name": "python"
    }
  },
  "cells": [
    {
      "cell_type": "markdown",
      "source": [],
      "metadata": {
        "id": "xSelFry4m4Fw"
      }
    },
    {
      "cell_type": "code",
      "source": [
        "import pandas as pd\n",
        "import numpy as np\n",
        "import matplotlib.pyplot as plt"
      ],
      "metadata": {
        "id": "59n7p1qhu1k2"
      },
      "execution_count": null,
      "outputs": []
    },
    {
      "cell_type": "code",
      "source": [
        "df = pd.read_json(\"enem_2023.json\")\n",
        "df.head()"
      ],
      "metadata": {
        "colab": {
          "base_uri": "https://localhost:8080/",
          "height": 206
        },
        "id": "M7xJh_1evWMA",
        "outputId": "1bb29394-0b19-428e-9ee5-4d7a25cc9754"
      },
      "execution_count": null,
      "outputs": [
        {
          "output_type": "execute_result",
          "data": {
            "text/plain": [
              "   Linguagens  Ciências humanas  Ciências da natureza  Matemática     Redação  \\\n",
              "0  585.669300        686.512178            390.482473  452.281333  546.371706   \n",
              "1  359.384608        642.084134                   NaN  412.205207  741.825256   \n",
              "2  622.732384        495.510719            443.183580  669.683401  684.515750   \n",
              "3  350.164605        602.041588            413.979810  676.608952  671.237114   \n",
              "4  384.093657        489.249140            609.758123  520.426698  744.375048   \n",
              "\n",
              "     Sexo  \n",
              "0   Homem  \n",
              "1  Mulher  \n",
              "2   Homem  \n",
              "3   Homem  \n",
              "4   Homem  "
            ],
            "text/html": [
              "\n",
              "  <div id=\"df-6816d8ec-d3a1-4d08-912d-b3a961393430\" class=\"colab-df-container\">\n",
              "    <div>\n",
              "<style scoped>\n",
              "    .dataframe tbody tr th:only-of-type {\n",
              "        vertical-align: middle;\n",
              "    }\n",
              "\n",
              "    .dataframe tbody tr th {\n",
              "        vertical-align: top;\n",
              "    }\n",
              "\n",
              "    .dataframe thead th {\n",
              "        text-align: right;\n",
              "    }\n",
              "</style>\n",
              "<table border=\"1\" class=\"dataframe\">\n",
              "  <thead>\n",
              "    <tr style=\"text-align: right;\">\n",
              "      <th></th>\n",
              "      <th>Linguagens</th>\n",
              "      <th>Ciências humanas</th>\n",
              "      <th>Ciências da natureza</th>\n",
              "      <th>Matemática</th>\n",
              "      <th>Redação</th>\n",
              "      <th>Sexo</th>\n",
              "    </tr>\n",
              "  </thead>\n",
              "  <tbody>\n",
              "    <tr>\n",
              "      <th>0</th>\n",
              "      <td>585.669300</td>\n",
              "      <td>686.512178</td>\n",
              "      <td>390.482473</td>\n",
              "      <td>452.281333</td>\n",
              "      <td>546.371706</td>\n",
              "      <td>Homem</td>\n",
              "    </tr>\n",
              "    <tr>\n",
              "      <th>1</th>\n",
              "      <td>359.384608</td>\n",
              "      <td>642.084134</td>\n",
              "      <td>NaN</td>\n",
              "      <td>412.205207</td>\n",
              "      <td>741.825256</td>\n",
              "      <td>Mulher</td>\n",
              "    </tr>\n",
              "    <tr>\n",
              "      <th>2</th>\n",
              "      <td>622.732384</td>\n",
              "      <td>495.510719</td>\n",
              "      <td>443.183580</td>\n",
              "      <td>669.683401</td>\n",
              "      <td>684.515750</td>\n",
              "      <td>Homem</td>\n",
              "    </tr>\n",
              "    <tr>\n",
              "      <th>3</th>\n",
              "      <td>350.164605</td>\n",
              "      <td>602.041588</td>\n",
              "      <td>413.979810</td>\n",
              "      <td>676.608952</td>\n",
              "      <td>671.237114</td>\n",
              "      <td>Homem</td>\n",
              "    </tr>\n",
              "    <tr>\n",
              "      <th>4</th>\n",
              "      <td>384.093657</td>\n",
              "      <td>489.249140</td>\n",
              "      <td>609.758123</td>\n",
              "      <td>520.426698</td>\n",
              "      <td>744.375048</td>\n",
              "      <td>Homem</td>\n",
              "    </tr>\n",
              "  </tbody>\n",
              "</table>\n",
              "</div>\n",
              "    <div class=\"colab-df-buttons\">\n",
              "\n",
              "  <div class=\"colab-df-container\">\n",
              "    <button class=\"colab-df-convert\" onclick=\"convertToInteractive('df-6816d8ec-d3a1-4d08-912d-b3a961393430')\"\n",
              "            title=\"Convert this dataframe to an interactive table.\"\n",
              "            style=\"display:none;\">\n",
              "\n",
              "  <svg xmlns=\"http://www.w3.org/2000/svg\" height=\"24px\" viewBox=\"0 -960 960 960\">\n",
              "    <path d=\"M120-120v-720h720v720H120Zm60-500h600v-160H180v160Zm220 220h160v-160H400v160Zm0 220h160v-160H400v160ZM180-400h160v-160H180v160Zm440 0h160v-160H620v160ZM180-180h160v-160H180v160Zm440 0h160v-160H620v160Z\"/>\n",
              "  </svg>\n",
              "    </button>\n",
              "\n",
              "  <style>\n",
              "    .colab-df-container {\n",
              "      display:flex;\n",
              "      gap: 12px;\n",
              "    }\n",
              "\n",
              "    .colab-df-convert {\n",
              "      background-color: #E8F0FE;\n",
              "      border: none;\n",
              "      border-radius: 50%;\n",
              "      cursor: pointer;\n",
              "      display: none;\n",
              "      fill: #1967D2;\n",
              "      height: 32px;\n",
              "      padding: 0 0 0 0;\n",
              "      width: 32px;\n",
              "    }\n",
              "\n",
              "    .colab-df-convert:hover {\n",
              "      background-color: #E2EBFA;\n",
              "      box-shadow: 0px 1px 2px rgba(60, 64, 67, 0.3), 0px 1px 3px 1px rgba(60, 64, 67, 0.15);\n",
              "      fill: #174EA6;\n",
              "    }\n",
              "\n",
              "    .colab-df-buttons div {\n",
              "      margin-bottom: 4px;\n",
              "    }\n",
              "\n",
              "    [theme=dark] .colab-df-convert {\n",
              "      background-color: #3B4455;\n",
              "      fill: #D2E3FC;\n",
              "    }\n",
              "\n",
              "    [theme=dark] .colab-df-convert:hover {\n",
              "      background-color: #434B5C;\n",
              "      box-shadow: 0px 1px 3px 1px rgba(0, 0, 0, 0.15);\n",
              "      filter: drop-shadow(0px 1px 2px rgba(0, 0, 0, 0.3));\n",
              "      fill: #FFFFFF;\n",
              "    }\n",
              "  </style>\n",
              "\n",
              "    <script>\n",
              "      const buttonEl =\n",
              "        document.querySelector('#df-6816d8ec-d3a1-4d08-912d-b3a961393430 button.colab-df-convert');\n",
              "      buttonEl.style.display =\n",
              "        google.colab.kernel.accessAllowed ? 'block' : 'none';\n",
              "\n",
              "      async function convertToInteractive(key) {\n",
              "        const element = document.querySelector('#df-6816d8ec-d3a1-4d08-912d-b3a961393430');\n",
              "        const dataTable =\n",
              "          await google.colab.kernel.invokeFunction('convertToInteractive',\n",
              "                                                    [key], {});\n",
              "        if (!dataTable) return;\n",
              "\n",
              "        const docLinkHtml = 'Like what you see? Visit the ' +\n",
              "          '<a target=\"_blank\" href=https://colab.research.google.com/notebooks/data_table.ipynb>data table notebook</a>'\n",
              "          + ' to learn more about interactive tables.';\n",
              "        element.innerHTML = '';\n",
              "        dataTable['output_type'] = 'display_data';\n",
              "        await google.colab.output.renderOutput(dataTable, element);\n",
              "        const docLink = document.createElement('div');\n",
              "        docLink.innerHTML = docLinkHtml;\n",
              "        element.appendChild(docLink);\n",
              "      }\n",
              "    </script>\n",
              "  </div>\n",
              "\n",
              "\n",
              "<div id=\"df-97fabc1b-db27-4451-b55b-ed47997e4431\">\n",
              "  <button class=\"colab-df-quickchart\" onclick=\"quickchart('df-97fabc1b-db27-4451-b55b-ed47997e4431')\"\n",
              "            title=\"Suggest charts\"\n",
              "            style=\"display:none;\">\n",
              "\n",
              "<svg xmlns=\"http://www.w3.org/2000/svg\" height=\"24px\"viewBox=\"0 0 24 24\"\n",
              "     width=\"24px\">\n",
              "    <g>\n",
              "        <path d=\"M19 3H5c-1.1 0-2 .9-2 2v14c0 1.1.9 2 2 2h14c1.1 0 2-.9 2-2V5c0-1.1-.9-2-2-2zM9 17H7v-7h2v7zm4 0h-2V7h2v10zm4 0h-2v-4h2v4z\"/>\n",
              "    </g>\n",
              "</svg>\n",
              "  </button>\n",
              "\n",
              "<style>\n",
              "  .colab-df-quickchart {\n",
              "      --bg-color: #E8F0FE;\n",
              "      --fill-color: #1967D2;\n",
              "      --hover-bg-color: #E2EBFA;\n",
              "      --hover-fill-color: #174EA6;\n",
              "      --disabled-fill-color: #AAA;\n",
              "      --disabled-bg-color: #DDD;\n",
              "  }\n",
              "\n",
              "  [theme=dark] .colab-df-quickchart {\n",
              "      --bg-color: #3B4455;\n",
              "      --fill-color: #D2E3FC;\n",
              "      --hover-bg-color: #434B5C;\n",
              "      --hover-fill-color: #FFFFFF;\n",
              "      --disabled-bg-color: #3B4455;\n",
              "      --disabled-fill-color: #666;\n",
              "  }\n",
              "\n",
              "  .colab-df-quickchart {\n",
              "    background-color: var(--bg-color);\n",
              "    border: none;\n",
              "    border-radius: 50%;\n",
              "    cursor: pointer;\n",
              "    display: none;\n",
              "    fill: var(--fill-color);\n",
              "    height: 32px;\n",
              "    padding: 0;\n",
              "    width: 32px;\n",
              "  }\n",
              "\n",
              "  .colab-df-quickchart:hover {\n",
              "    background-color: var(--hover-bg-color);\n",
              "    box-shadow: 0 1px 2px rgba(60, 64, 67, 0.3), 0 1px 3px 1px rgba(60, 64, 67, 0.15);\n",
              "    fill: var(--button-hover-fill-color);\n",
              "  }\n",
              "\n",
              "  .colab-df-quickchart-complete:disabled,\n",
              "  .colab-df-quickchart-complete:disabled:hover {\n",
              "    background-color: var(--disabled-bg-color);\n",
              "    fill: var(--disabled-fill-color);\n",
              "    box-shadow: none;\n",
              "  }\n",
              "\n",
              "  .colab-df-spinner {\n",
              "    border: 2px solid var(--fill-color);\n",
              "    border-color: transparent;\n",
              "    border-bottom-color: var(--fill-color);\n",
              "    animation:\n",
              "      spin 1s steps(1) infinite;\n",
              "  }\n",
              "\n",
              "  @keyframes spin {\n",
              "    0% {\n",
              "      border-color: transparent;\n",
              "      border-bottom-color: var(--fill-color);\n",
              "      border-left-color: var(--fill-color);\n",
              "    }\n",
              "    20% {\n",
              "      border-color: transparent;\n",
              "      border-left-color: var(--fill-color);\n",
              "      border-top-color: var(--fill-color);\n",
              "    }\n",
              "    30% {\n",
              "      border-color: transparent;\n",
              "      border-left-color: var(--fill-color);\n",
              "      border-top-color: var(--fill-color);\n",
              "      border-right-color: var(--fill-color);\n",
              "    }\n",
              "    40% {\n",
              "      border-color: transparent;\n",
              "      border-right-color: var(--fill-color);\n",
              "      border-top-color: var(--fill-color);\n",
              "    }\n",
              "    60% {\n",
              "      border-color: transparent;\n",
              "      border-right-color: var(--fill-color);\n",
              "    }\n",
              "    80% {\n",
              "      border-color: transparent;\n",
              "      border-right-color: var(--fill-color);\n",
              "      border-bottom-color: var(--fill-color);\n",
              "    }\n",
              "    90% {\n",
              "      border-color: transparent;\n",
              "      border-bottom-color: var(--fill-color);\n",
              "    }\n",
              "  }\n",
              "</style>\n",
              "\n",
              "  <script>\n",
              "    async function quickchart(key) {\n",
              "      const quickchartButtonEl =\n",
              "        document.querySelector('#' + key + ' button');\n",
              "      quickchartButtonEl.disabled = true;  // To prevent multiple clicks.\n",
              "      quickchartButtonEl.classList.add('colab-df-spinner');\n",
              "      try {\n",
              "        const charts = await google.colab.kernel.invokeFunction(\n",
              "            'suggestCharts', [key], {});\n",
              "      } catch (error) {\n",
              "        console.error('Error during call to suggestCharts:', error);\n",
              "      }\n",
              "      quickchartButtonEl.classList.remove('colab-df-spinner');\n",
              "      quickchartButtonEl.classList.add('colab-df-quickchart-complete');\n",
              "    }\n",
              "    (() => {\n",
              "      let quickchartButtonEl =\n",
              "        document.querySelector('#df-97fabc1b-db27-4451-b55b-ed47997e4431 button');\n",
              "      quickchartButtonEl.style.display =\n",
              "        google.colab.kernel.accessAllowed ? 'block' : 'none';\n",
              "    })();\n",
              "  </script>\n",
              "</div>\n",
              "\n",
              "    </div>\n",
              "  </div>\n"
            ],
            "application/vnd.google.colaboratory.intrinsic+json": {
              "type": "dataframe",
              "variable_name": "df",
              "summary": "{\n  \"name\": \"df\",\n  \"rows\": 1000,\n  \"fields\": [\n    {\n      \"column\": \"Linguagens\",\n      \"properties\": {\n        \"dtype\": \"number\",\n        \"std\": 84.00931315971195,\n        \"min\": 287.0,\n        \"max\": 804.4563171927,\n        \"num_unique_values\": 896,\n        \"samples\": [\n          638.5729576994,\n          458.5772735297,\n          469.6368972844\n        ],\n        \"semantic_type\": \"\",\n        \"description\": \"\"\n      }\n    },\n    {\n      \"column\": \"Ci\\u00eancias humanas\",\n      \"properties\": {\n        \"dtype\": \"number\",\n        \"std\": 77.81151916399475,\n        \"min\": 289.9,\n        \"max\": 763.9196954613,\n        \"num_unique_values\": 935,\n        \"samples\": [\n          552.953806862,\n          648.4281845758,\n          519.0714634707\n        ],\n        \"semantic_type\": \"\",\n        \"description\": \"\"\n      }\n    },\n    {\n      \"column\": \"Ci\\u00eancias da natureza\",\n      \"properties\": {\n        \"dtype\": \"number\",\n        \"std\": 78.76040369093829,\n        \"min\": 314.4,\n        \"max\": 802.0045683513,\n        \"num_unique_values\": 821,\n        \"samples\": [\n          472.110329659,\n          468.0927320977,\n          391.1238460543\n        ],\n        \"semantic_type\": \"\",\n        \"description\": \"\"\n      }\n    },\n    {\n      \"column\": \"Matem\\u00e1tica\",\n      \"properties\": {\n        \"dtype\": \"number\",\n        \"std\": 86.64810003261275,\n        \"min\": 319.8,\n        \"max\": 807.8779018921,\n        \"num_unique_values\": 918,\n        \"samples\": [\n          577.6921115123,\n          562.8560894807,\n          464.1971411718\n        ],\n        \"semantic_type\": \"\",\n        \"description\": \"\"\n      }\n    },\n    {\n      \"column\": \"Reda\\u00e7\\u00e3o\",\n      \"properties\": {\n        \"dtype\": \"number\",\n        \"std\": 115.33997244479161,\n        \"min\": 270.8399648605,\n        \"max\": 1000.0,\n        \"num_unique_values\": 860,\n        \"samples\": [\n          482.1791420587,\n          687.1614107203,\n          572.6498716449\n        ],\n        \"semantic_type\": \"\",\n        \"description\": \"\"\n      }\n    },\n    {\n      \"column\": \"Sexo\",\n      \"properties\": {\n        \"dtype\": \"category\",\n        \"num_unique_values\": 3,\n        \"samples\": [\n          \"Homem\",\n          \"Mulher\",\n          \"N\\u00e3o idenficado\"\n        ],\n        \"semantic_type\": \"\",\n        \"description\": \"\"\n      }\n    }\n  ]\n}"
            }
          },
          "metadata": {},
          "execution_count": 16
        }
      ]
    },
    {
      "cell_type": "markdown",
      "source": [
        "1. Qual das disciplinas tem a maior amplitude de nota?"
      ],
      "metadata": {
        "id": "BGnZKB-Sm6EF"
      }
    },
    {
      "cell_type": "code",
      "execution_count": null,
      "metadata": {
        "id": "CSx2qzGRmzGH",
        "colab": {
          "base_uri": "https://localhost:8080/"
        },
        "outputId": "b7fe8efb-9005-4d44-dbf4-5a2053fc6ad4"
      },
      "outputs": [
        {
          "output_type": "stream",
          "name": "stdout",
          "text": [
            "Disciplina com a maior amplitude de nota: Redação\n"
          ]
        }
      ],
      "source": [
        "# Selecionando apenas as colunas das disciplinas\n",
        "df_disciplinas = df.drop(columns=['Sexo'])\n",
        "# Calculando a amplitude de notas para cada disciplina\n",
        "amplitude_notas = df_disciplinas.max() - df_disciplinas.min()\n",
        "# Identificando a disciplina com a maior amplitude de nota\n",
        "disciplina_maior_amplitude = amplitude_notas.idxmax()\n",
        "print(\"Disciplina com a maior amplitude de nota:\", disciplina_maior_amplitude)"
      ]
    },
    {
      "cell_type": "markdown",
      "source": [
        "2. Qual é a média e a mediana para cada uma das disciplinas? (Lembre-se\n",
        "de remover todos os valores nulos quando considerar a mediana)\n"
      ],
      "metadata": {
        "id": "zJxZsxm5m8jh"
      }
    },
    {
      "cell_type": "code",
      "source": [
        "media_por_disciplina = df.mean()\n",
        "mediana_por_disciplina = df.dropna().median()\n",
        "\n",
        "print(media_por_disciplina)\n",
        "print(mediana_por_disciplina)"
      ],
      "metadata": {
        "colab": {
          "base_uri": "https://localhost:8080/"
        },
        "id": "5fSQjlEcuwgR",
        "outputId": "3118f285-2ae1-44b7-dd3e-cbd1f23ecfa1"
      },
      "execution_count": null,
      "outputs": [
        {
          "output_type": "stream",
          "name": "stdout",
          "text": [
            "Linguagens              514.524809\n",
            "Ciências humanas        527.042281\n",
            "Ciências da natureza    499.315583\n",
            "Matemática              535.965660\n",
            "Redação                 637.783532\n",
            "dtype: float64\n",
            "Linguagens              517.128831\n",
            "Ciências humanas        528.503263\n",
            "Ciências da natureza    502.935209\n",
            "Matemática              532.961486\n",
            "Redação                 639.602691\n",
            "dtype: float64\n"
          ]
        },
        {
          "output_type": "stream",
          "name": "stderr",
          "text": [
            "<ipython-input-18-66f8e232f993>:1: FutureWarning: The default value of numeric_only in DataFrame.mean is deprecated. In a future version, it will default to False. In addition, specifying 'numeric_only=None' is deprecated. Select only valid columns or specify the value of numeric_only to silence this warning.\n",
            "  media_por_disciplina = df.mean()\n",
            "<ipython-input-18-66f8e232f993>:2: FutureWarning: The default value of numeric_only in DataFrame.median is deprecated. In a future version, it will default to False. In addition, specifying 'numeric_only=None' is deprecated. Select only valid columns or specify the value of numeric_only to silence this warning.\n",
            "  mediana_por_disciplina = df.dropna().median()\n"
          ]
        }
      ]
    },
    {
      "cell_type": "code",
      "source": [
        "mediana = df[['Linguagens', 'Ciências humanas', 'Ciências da natureza', 'Matemática', 'Redação']].median(skipna=True)\n",
        "mediana"
      ],
      "metadata": {
        "colab": {
          "base_uri": "https://localhost:8080/"
        },
        "id": "972K45ucgyey",
        "outputId": "dcfbdca5-56d6-4b61-e8df-1b37fc823d57"
      },
      "execution_count": null,
      "outputs": [
        {
          "output_type": "execute_result",
          "data": {
            "text/plain": [
              "Linguagens              517.128831\n",
              "Ciências humanas        528.503263\n",
              "Ciências da natureza    502.935209\n",
              "Matemática              532.961486\n",
              "Redação                 639.602691\n",
              "dtype: float64"
            ]
          },
          "metadata": {},
          "execution_count": 9
        }
      ]
    },
    {
      "cell_type": "markdown",
      "source": [
        "3. Considerando o curso de Ciência da Computação da UFPE, onde o peso\n",
        "cada uma das disciplinas ponderado:\n",
        "\n",
        "a. Redação - 2\n",
        "\n",
        "b. Matemática e suas Tecnologias - 4\n",
        "\n",
        "c. Linguagens, Códigos e suas Tecnologias - 2\n",
        "\n",
        "d. Ciências Humanas e suas Tecnologias - 1\n",
        "\n",
        "e. Ciências da Natureza e suas Tecnologias - 1"
      ],
      "metadata": {
        "id": "54oRF5Afm_l9"
      }
    },
    {
      "cell_type": "code",
      "source": [
        "pesos = {\n",
        "    'Redação': 2,\n",
        "    'Matemática': 4,\n",
        "    'Linguagens': 2,\n",
        "    'Ciências humanas': 1,\n",
        "    'Ciências da natureza': 1\n",
        "}\n",
        "df['Nota ponderada'] = sum(df[disciplina] * peso for disciplina, peso in pesos.items())\n",
        "top_500 = df.nlargest(500, 'Nota ponderada')\n",
        "media_ponderada = top_500['Nota ponderada'].mean()\n",
        "desvio_padrao_ponderado = top_500['Nota ponderada'].std()\n"
      ],
      "metadata": {
        "id": "tYUGK2Qn5N5H"
      },
      "execution_count": null,
      "outputs": []
    },
    {
      "cell_type": "code",
      "source": [
        "desvio_padrao_ponderado"
      ],
      "metadata": {
        "colab": {
          "base_uri": "https://localhost:8080/"
        },
        "id": "L4X6kxs95axH",
        "outputId": "a6ad3e8a-0205-4571-f641-1d797804aa50"
      },
      "execution_count": null,
      "outputs": [
        {
          "output_type": "execute_result",
          "data": {
            "text/plain": [
              "404.3586629946426"
            ]
          },
          "metadata": {},
          "execution_count": 8
        }
      ]
    },
    {
      "cell_type": "code",
      "source": [
        "media_ponderada"
      ],
      "metadata": {
        "colab": {
          "base_uri": "https://localhost:8080/"
        },
        "id": "1OiX4xA45d59",
        "outputId": "c29236f9-2aee-4b73-f026-ec89b4349fdf"
      },
      "execution_count": null,
      "outputs": [
        {
          "output_type": "execute_result",
          "data": {
            "text/plain": [
              "5572.896772018768"
            ]
          },
          "metadata": {},
          "execution_count": 9
        }
      ]
    },
    {
      "cell_type": "markdown",
      "source": [
        "4. Se todos esses estudantes aplicassem para ciência da computação e\n",
        "existem apenas 40 vagas, qual seria a variância e média da nota dos\n",
        "estudantes que entraram no curso de ciência da computação?\n"
      ],
      "metadata": {
        "id": "ZfRZNJGNnSDl"
      }
    },
    {
      "cell_type": "code",
      "source": [
        "variancia = top_500['Nota ponderada'].var()\n",
        "variancia\n"
      ],
      "metadata": {
        "colab": {
          "base_uri": "https://localhost:8080/"
        },
        "id": "1Ew-imG45dCn",
        "outputId": "1802e91f-444f-4be5-c8dd-093e3ee1ce20"
      },
      "execution_count": null,
      "outputs": [
        {
          "output_type": "execute_result",
          "data": {
            "text/plain": [
              "163505.92833881496"
            ]
          },
          "metadata": {},
          "execution_count": 10
        }
      ]
    },
    {
      "cell_type": "code",
      "source": [
        "media = top_500['Nota ponderada'].mean()\n",
        "media"
      ],
      "metadata": {
        "colab": {
          "base_uri": "https://localhost:8080/"
        },
        "id": "z_6o2RO554Vw",
        "outputId": "83497239-e1bb-4b2c-9074-92cc18e3563b"
      },
      "execution_count": null,
      "outputs": [
        {
          "output_type": "execute_result",
          "data": {
            "text/plain": [
              "5572.896772018768"
            ]
          },
          "metadata": {},
          "execution_count": 11
        }
      ]
    },
    {
      "cell_type": "markdown",
      "source": [
        "5. Qual o valor do teto do terceiro quartil para as disciplinas de\n",
        "matemática e linguagens?"
      ],
      "metadata": {
        "id": "AI3eXfEmnUF9"
      }
    },
    {
      "cell_type": "code",
      "source": [
        "terceiro_quartil_linguagens = df['Linguagens'].quantile(0.75)\n",
        "np.ceil(terceiro_quartil_linguagens)\n"
      ],
      "metadata": {
        "colab": {
          "base_uri": "https://localhost:8080/"
        },
        "id": "7O_zrsL96JRY",
        "outputId": "243d1e48-53ea-4e43-cda0-c06e0e0f1f49"
      },
      "execution_count": null,
      "outputs": [
        {
          "output_type": "execute_result",
          "data": {
            "text/plain": [
              "573.0"
            ]
          },
          "metadata": {},
          "execution_count": 12
        }
      ]
    },
    {
      "cell_type": "code",
      "source": [
        "terceiro_quartil_matematica = df['Matemática'].quantile(0.75)\n",
        "np.ceil(terceiro_quartil_matematica)"
      ],
      "metadata": {
        "colab": {
          "base_uri": "https://localhost:8080/"
        },
        "id": "OwgAID5q6L5j",
        "outputId": "a0925f13-0806-4c28-ade8-7ef8ed1e87c0"
      },
      "execution_count": null,
      "outputs": [
        {
          "output_type": "execute_result",
          "data": {
            "text/plain": [
              "592.0"
            ]
          },
          "metadata": {},
          "execution_count": 13
        }
      ]
    },
    {
      "cell_type": "markdown",
      "source": [
        "6. Faça o histograma de Redação e Linguagens, de 20 em 20 pontos.\n",
        "Podemos dizer que são histogramas simétricos, justifique e classifique\n",
        "se não assimétricas?\n"
      ],
      "metadata": {
        "id": "IllhR18HnVL1"
      }
    },
    {
      "cell_type": "code",
      "source": [
        "plt.figure(figsize=(10, 5))\n",
        "plt.subplot(1, 2, 1)\n",
        "plt.hist(df['Redação'].dropna(), bins=np.arange(0, 1000, 20), color='blue', edgecolor='black')\n",
        "plt.title('Redação')\n",
        "plt.subplot(1, 2, 2)\n",
        "plt.hist(df['Linguagens'].dropna(), bins=np.arange(0, 1000, 20), color='green', edgecolor='black')\n",
        "plt.title('Linguagens')\n",
        "plt.show()"
      ],
      "metadata": {
        "colab": {
          "base_uri": "https://localhost:8080/",
          "height": 468
        },
        "id": "coVWetcX6XpV",
        "outputId": "eb6b0a60-0b8f-4334-cf1d-0eb815e34461"
      },
      "execution_count": null,
      "outputs": [
        {
          "output_type": "display_data",
          "data": {
            "text/plain": [
              "<Figure size 1000x500 with 2 Axes>"
            ],
            "image/png": "[encoded data removed]"
          },
          "metadata": {}
        }
      ]
    },
    {
      "cell_type": "markdown",
      "source": [
        "7. Agora coloque um range fixo de 0 até 1000, você ainda tem a mesma\n",
        "opinião quanto a simetria? [plt.hist(dado, bins=_, range=[0, 1000])\n"
      ],
      "metadata": {
        "id": "a2u10AITnXSd"
      }
    },
    {
      "cell_type": "code",
      "source": [
        "plt.figure(figsize=(10, 5))\n",
        "plt.subplot(1, 2, 1)\n",
        "plt.hist(df['Redação'].dropna(), bins=np.arange(0, 1000, 20), range=[0, 1000], color='blue', edgecolor='black')\n",
        "plt.title('Redação')\n",
        "plt.subplot(1, 2, 2)\n",
        "plt.hist(df['Linguagens'].dropna(), bins=np.arange(0, 1000, 20), range=[0, 1000], color='green', edgecolor='black')\n",
        "plt.title('Linguagens')\n",
        "plt.show()"
      ],
      "metadata": {
        "colab": {
          "base_uri": "https://localhost:8080/",
          "height": 468
        },
        "id": "65mS-nlF6dK_",
        "outputId": "ed6d6f0f-830c-43b2-fac0-38f59d1a5635"
      },
      "execution_count": null,
      "outputs": [
        {
          "output_type": "display_data",
          "data": {
            "text/plain": [
              "<Figure size 1000x500 with 2 Axes>"
            ],
            "image/png": "[encoded data removed]"
          },
          "metadata": {}
        }
      ]
    },
    {
      "cell_type": "markdown",
      "source": [
        "8. Faça um boxplot do quartil de todas as disciplinas de ciências da\n",
        "natureza e redação. É possível enxergar outliers? Utilize o método IQR"
      ],
      "metadata": {
        "id": "8QsMoS0inZZ3"
      }
    },
    {
      "cell_type": "code",
      "source": [
        "plt.figure(figsize=(8, 6))\n",
        "plt.boxplot([df['Ciências da natureza'].dropna(), df['Redação'].dropna()], labels=['Ciências da natureza', 'Redação'])\n",
        "plt.title('Boxplot das disciplinas Ciências da Natureza e Redação')\n",
        "plt.show()"
      ],
      "metadata": {
        "colab": {
          "base_uri": "https://localhost:8080/",
          "height": 545
        },
        "id": "cWijrDDm6g_D",
        "outputId": "5556f0d7-5377-49fd-9a77-5226e7730946"
      },
      "execution_count": null,
      "outputs": [
        {
          "output_type": "display_data",
          "data": {
            "text/plain": [
              "<Figure size 800x600 with 1 Axes>"
            ],
            "image/png": "[encoded data removed]"
          },
          "metadata": {}
        }
      ]
    },
    {
      "cell_type": "markdown",
      "source": [
        "9. Remova todos os outliers e verifique se eles são passíveis de alterar a\n",
        "média nacional significativamente? (considere significativamente um\n",
        "valor acima de 5%)"
      ],
      "metadata": {
        "id": "SxVTfOW8nbCq"
      }
    },
    {
      "cell_type": "code",
      "source": [
        "Q1 = df.quantile(0.25)\n",
        "Q3 = df.quantile(0.75)\n",
        "IQR = Q3 - Q1\n",
        "limite_inferior = Q1 - 1.5 * IQR\n",
        "limite_superior = Q3 + 1.5 * IQR\n",
        "outliers = ((df < limite_inferior) | (df > limite_superior)).sum()\n",
        "outliers\n"
      ],
      "metadata": {
        "colab": {
          "base_uri": "https://localhost:8080/"
        },
        "id": "DOkKu54fnrQM",
        "outputId": "d0867094-7fef-49d6-cd6e-fe81771b6e02"
      },
      "execution_count": null,
      "outputs": [
        {
          "output_type": "stream",
          "name": "stderr",
          "text": [
            "<ipython-input-17-d6094ef8bf39>:1: FutureWarning: The default value of numeric_only in DataFrame.quantile is deprecated. In a future version, it will default to False. Select only valid columns or specify the value of numeric_only to silence this warning.\n",
            "  Q1 = df.quantile(0.25)\n",
            "<ipython-input-17-d6094ef8bf39>:2: FutureWarning: The default value of numeric_only in DataFrame.quantile is deprecated. In a future version, it will default to False. Select only valid columns or specify the value of numeric_only to silence this warning.\n",
            "  Q3 = df.quantile(0.75)\n",
            "<ipython-input-17-d6094ef8bf39>:6: FutureWarning: Automatic reindexing on DataFrame vs Series comparisons is deprecated and will raise ValueError in a future version. Do `left, right = left.align(right, axis=1, copy=False)` before e.g. `left == right`\n",
            "  outliers = ((df < limite_inferior) | (df > limite_superior)).sum()\n"
          ]
        },
        {
          "output_type": "execute_result",
          "data": {
            "text/plain": [
              "Ciências da natureza    2\n",
              "Ciências humanas        3\n",
              "Linguagens              2\n",
              "Matemática              3\n",
              "Nota ponderada          0\n",
              "Redação                 1\n",
              "Sexo                    0\n",
              "dtype: int64"
            ]
          },
          "metadata": {},
          "execution_count": 17
        }
      ]
    },
    {
      "cell_type": "code",
      "source": [
        "# Removendo outliers\n",
        "df_sem_outliers = df[~((df < limite_inferior) | (df > limite_superior)).any(axis=1)]\n",
        "media_sem_outliers = df_sem_outliers.mean()\n",
        "# Verificando a alteração na média nacional\n",
        "diferenca_media = ((media_sem_outliers - media) / media) * 100\n",
        "diferenca_media"
      ],
      "metadata": {
        "colab": {
          "base_uri": "https://localhost:8080/"
        },
        "id": "nFxIe_il65pY",
        "outputId": "60feea5e-b195-486e-b2d3-749a28357db6"
      },
      "execution_count": null,
      "outputs": [
        {
          "output_type": "stream",
          "name": "stderr",
          "text": [
            "<ipython-input-18-1901acd05528>:2: FutureWarning: Automatic reindexing on DataFrame vs Series comparisons is deprecated and will raise ValueError in a future version. Do `left, right = left.align(right, axis=1, copy=False)` before e.g. `left == right`\n",
            "  df_sem_outliers = df[~((df < limite_inferior) | (df > limite_superior)).any(axis=1)]\n",
            "<ipython-input-18-1901acd05528>:3: FutureWarning: The default value of numeric_only in DataFrame.mean is deprecated. In a future version, it will default to False. In addition, specifying 'numeric_only=None' is deprecated. Select only valid columns or specify the value of numeric_only to silence this warning.\n",
            "  media_sem_outliers = df_sem_outliers.mean()\n"
          ]
        },
        {
          "output_type": "execute_result",
          "data": {
            "text/plain": [
              "Linguagens             -90.720290\n",
              "Ciências humanas       -90.528220\n",
              "Ciências da natureza   -91.007633\n",
              "Matemática             -90.388039\n",
              "Redação                -88.506506\n",
              "Nota ponderada          -1.541602\n",
              "dtype: float64"
            ]
          },
          "metadata": {},
          "execution_count": 18
        }
      ]
    },
    {
      "cell_type": "markdown",
      "source": [
        "10. Considerando valores nulos, tente encontrar qual seria a melhor medida\n",
        "de tendência que pode substituir as notas nulas. Média, moda ou\n",
        "mediana? Substitua o valor por todos os três e diga qual delas altera\n",
        "menos a média geral e o desvio padrão"
      ],
      "metadata": {
        "id": "tfli9vsQncVS"
      }
    },
    {
      "cell_type": "code",
      "source": [
        "# Substituindo os valores nulos por média, moda e mediana, respectivamente\n",
        "filled_mean = df.fillna(df.mean())\n",
        "filled_mode = df.fillna(df.mode().iloc[0])  # A moda pode ter múltiplos valores, então pegamos apenas o primeiro\n",
        "filled_median = df.fillna(df.median())\n",
        "\n",
        "# Calculando a média geral e o desvio padrão em cada caso\n",
        "mean_with_mean = filled_mean.mean().mean()\n",
        "std_with_mean = filled_mean.std().mean()\n",
        "\n",
        "mean_with_mode = filled_mode.mean().mean()\n",
        "std_with_mode = filled_mode.std().mean()\n",
        "\n",
        "mean_with_median = filled_median.mean().mean()\n",
        "std_with_median = filled_median.std().mean()\n",
        "\n",
        "# Comparando as alterações na média geral e no desvio padrão\n",
        "diff_mean = {'Média': abs(mean_with_mean - df.mean().mean()),\n",
        "             'Moda': abs(mean_with_mode - df.mean().mean()),\n",
        "             'Mediana': abs(mean_with_median - df.mean().mean())}\n",
        "\n",
        "diff_std = {'Média': abs(std_with_mean - df.std().mean()),\n",
        "            'Moda': abs(std_with_mode - df.std().mean()),\n",
        "            'Mediana': abs(std_with_median - df.std().mean())}\n",
        "\n",
        "# Exibindo os resultados\n",
        "print(diff_mean)\n",
        "print(diff_std)"
      ],
      "metadata": {
        "colab": {
          "base_uri": "https://localhost:8080/"
        },
        "id": "1msFx2UskUw9",
        "outputId": "8f06d2ca-78e5-4ad4-9e82-fe9381930c8b"
      },
      "execution_count": null,
      "outputs": [
        {
          "output_type": "stream",
          "name": "stdout",
          "text": [
            "Alteração na média geral:\n",
            "{'Média': 1.1368683772161603e-13, 'Moda': 27.791598696353617, 'Mediana': 0.09218322316439753}\n",
            "\n",
            "Alteração no desvio padrão:\n",
            "{'Média': 5.200789101334976, 'Moda': 25.14968228259599, 'Mediana': 5.198642721590332}\n"
          ]
        },
        {
          "output_type": "stream",
          "name": "stderr",
          "text": [
            "<ipython-input-22-d989a011371c>:2: FutureWarning: The default value of numeric_only in DataFrame.mean is deprecated. In a future version, it will default to False. In addition, specifying 'numeric_only=None' is deprecated. Select only valid columns or specify the value of numeric_only to silence this warning.\n",
            "  filled_mean = df.fillna(df.mean())\n",
            "<ipython-input-22-d989a011371c>:4: FutureWarning: The default value of numeric_only in DataFrame.median is deprecated. In a future version, it will default to False. In addition, specifying 'numeric_only=None' is deprecated. Select only valid columns or specify the value of numeric_only to silence this warning.\n",
            "  filled_median = df.fillna(df.median())\n",
            "<ipython-input-22-d989a011371c>:7: FutureWarning: The default value of numeric_only in DataFrame.mean is deprecated. In a future version, it will default to False. In addition, specifying 'numeric_only=None' is deprecated. Select only valid columns or specify the value of numeric_only to silence this warning.\n",
            "  mean_with_mean = filled_mean.mean().mean()\n",
            "<ipython-input-22-d989a011371c>:8: FutureWarning: The default value of numeric_only in DataFrame.std is deprecated. In a future version, it will default to False. In addition, specifying 'numeric_only=None' is deprecated. Select only valid columns or specify the value of numeric_only to silence this warning.\n",
            "  std_with_mean = filled_mean.std().mean()\n",
            "<ipython-input-22-d989a011371c>:10: FutureWarning: The default value of numeric_only in DataFrame.mean is deprecated. In a future version, it will default to False. In addition, specifying 'numeric_only=None' is deprecated. Select only valid columns or specify the value of numeric_only to silence this warning.\n",
            "  mean_with_mode = filled_mode.mean().mean()\n",
            "<ipython-input-22-d989a011371c>:11: FutureWarning: The default value of numeric_only in DataFrame.std is deprecated. In a future version, it will default to False. In addition, specifying 'numeric_only=None' is deprecated. Select only valid columns or specify the value of numeric_only to silence this warning.\n",
            "  std_with_mode = filled_mode.std().mean()\n",
            "<ipython-input-22-d989a011371c>:13: FutureWarning: The default value of numeric_only in DataFrame.mean is deprecated. In a future version, it will default to False. In addition, specifying 'numeric_only=None' is deprecated. Select only valid columns or specify the value of numeric_only to silence this warning.\n",
            "  mean_with_median = filled_median.mean().mean()\n",
            "<ipython-input-22-d989a011371c>:14: FutureWarning: The default value of numeric_only in DataFrame.std is deprecated. In a future version, it will default to False. In addition, specifying 'numeric_only=None' is deprecated. Select only valid columns or specify the value of numeric_only to silence this warning.\n",
            "  std_with_median = filled_median.std().mean()\n",
            "<ipython-input-22-d989a011371c>:17: FutureWarning: The default value of numeric_only in DataFrame.mean is deprecated. In a future version, it will default to False. In addition, specifying 'numeric_only=None' is deprecated. Select only valid columns or specify the value of numeric_only to silence this warning.\n",
            "  diff_mean = {'Média': abs(mean_with_mean - df.mean().mean()),\n",
            "<ipython-input-22-d989a011371c>:18: FutureWarning: The default value of numeric_only in DataFrame.mean is deprecated. In a future version, it will default to False. In addition, specifying 'numeric_only=None' is deprecated. Select only valid columns or specify the value of numeric_only to silence this warning.\n",
            "  'Moda': abs(mean_with_mode - df.mean().mean()),\n",
            "<ipython-input-22-d989a011371c>:19: FutureWarning: The default value of numeric_only in DataFrame.mean is deprecated. In a future version, it will default to False. In addition, specifying 'numeric_only=None' is deprecated. Select only valid columns or specify the value of numeric_only to silence this warning.\n",
            "  'Mediana': abs(mean_with_median - df.mean().mean())}\n",
            "<ipython-input-22-d989a011371c>:21: FutureWarning: The default value of numeric_only in DataFrame.std is deprecated. In a future version, it will default to False. In addition, specifying 'numeric_only=None' is deprecated. Select only valid columns or specify the value of numeric_only to silence this warning.\n",
            "  diff_std = {'Média': abs(std_with_mean - df.std().mean()),\n",
            "<ipython-input-22-d989a011371c>:22: FutureWarning: The default value of numeric_only in DataFrame.std is deprecated. In a future version, it will default to False. In addition, specifying 'numeric_only=None' is deprecated. Select only valid columns or specify the value of numeric_only to silence this warning.\n",
            "  'Moda': abs(std_with_mode - df.std().mean()),\n",
            "<ipython-input-22-d989a011371c>:23: FutureWarning: The default value of numeric_only in DataFrame.std is deprecated. In a future version, it will default to False. In addition, specifying 'numeric_only=None' is deprecated. Select only valid columns or specify the value of numeric_only to silence this warning.\n",
            "  'Mediana': abs(std_with_median - df.std().mean())}\n"
          ]
        }
      ]
    }
  ]
}